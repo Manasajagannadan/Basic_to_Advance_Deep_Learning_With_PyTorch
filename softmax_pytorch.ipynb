{
 "cells": [
  {
   "cell_type": "code",
   "execution_count": 2,
   "metadata": {},
   "outputs": [
    {
     "name": "stdout",
     "output_type": "stream",
     "text": [
      "\n",
      "J MANASA\n"
     ]
    }
   ],
   "source": [
    "#Impliment softmax formula\n",
    "print(\"\\nJ MANASA\")\n",
    "import numpy as np"
   ]
  },
  {
   "cell_type": "code",
   "execution_count": 3,
   "metadata": {},
   "outputs": [
    {
     "name": "stdout",
     "output_type": "stream",
     "text": [
      "1.0\n",
      "\n",
      "J MANASA\n"
     ]
    }
   ],
   "source": [
    "x = 10\n",
    "def softmax(x):\n",
    "    exponential = np.exp(x)\n",
    "    return np.divide(exponential, exponential.sum())\n",
    "print(softmax(x))\n",
    "\n",
    "print(\"\\nJ MANASA\")"
   ]
  },
  {
   "cell_type": "code",
   "execution_count": null,
   "metadata": {},
   "outputs": [],
   "source": []
  }
 ],
 "metadata": {
  "kernelspec": {
   "display_name": "Python 3",
   "language": "python",
   "name": "python3"
  },
  "language_info": {
   "codemirror_mode": {
    "name": "ipython",
    "version": 3
   },
   "file_extension": ".py",
   "mimetype": "text/x-python",
   "name": "python",
   "nbconvert_exporter": "python",
   "pygments_lexer": "ipython3",
   "version": "3.7.4"
  }
 },
 "nbformat": 4,
 "nbformat_minor": 2
}
