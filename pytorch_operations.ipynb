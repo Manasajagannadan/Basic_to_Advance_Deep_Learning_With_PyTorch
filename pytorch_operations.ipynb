{
 "cells": [
  {
   "cell_type": "code",
   "execution_count": 20,
   "metadata": {},
   "outputs": [
    {
     "name": "stdout",
     "output_type": "stream",
     "text": [
      "\n",
      "J MANASA\n",
      "\n"
     ]
    }
   ],
   "source": [
    "#Take your data\n",
    "#Pick a random model\n",
    "#Calculate the error\n",
    "#Minimize the error, and obtain a better model\n",
    "print(\"\\nJ MANASA\\n\")\n",
    "\n",
    "\n",
    "#Sigmoid activation function  : σ(x)=1/1+e−x\n",
    "\n",
    "#Output (prediction) formula : ˆy =σ(w1x1+w2x2+b)\n",
    "\n",
    "#Error function Error(y,ˆy) = −ylog(ˆy)−(1−y)log(1−ˆy)\n",
    "#y^ ​\t =σ(Wx+b)\n",
    "\n",
    "#The function that updates the weights  :  wi⟶ wi+α(y−ˆy)xi\n",
    "#                                          b⟶  b+α(y− ˆy )"
   ]
  },
  {
   "cell_type": "code",
   "execution_count": 21,
   "metadata": {},
   "outputs": [
    {
     "name": "stdout",
     "output_type": "stream",
     "text": [
      "input values :  tensor([[-0.1468,  0.7861,  0.9468, -1.1143,  1.6908]], requires_grad=True)\n",
      "weights :  tensor([[-0.8948, -0.3556,  1.2324,  0.1382, -1.6822]])\n",
      "bias :  tensor([[0.3177]])\n",
      "output value :  tensor([[0.1328],\n",
      "        [0.1373],\n",
      "        [0.2405],\n",
      "        [1.3955],\n",
      "        [1.3470]])\n"
     ]
    }
   ],
   "source": [
    "import numpy as np\n",
    "import torch\n",
    "\n",
    "torch.manual_seed(7)\n",
    "inputs = torch.randn((1,5), requires_grad = True)\n",
    "weights = torch.randn_like(inputs)\n",
    "bias = torch.randn((1,1))\n",
    "y = torch.randn((5,1))\n",
    "\n",
    "print(\"input values : \",inputs)\n",
    "print(\"weights : \",weights)\n",
    "print(\"bias : \",bias)\n",
    "print(\"output value : \",y)"
   ]
  },
  {
   "cell_type": "code",
   "execution_count": 22,
   "metadata": {},
   "outputs": [
    {
     "name": "stdout",
     "output_type": "stream",
     "text": [
      "tensor([[0.0448]], grad_fn=<MulBackward0>)\n"
     ]
    }
   ],
   "source": [
    "def sigmoid(inputs):\n",
    "    return 1 / (1 + torch.exp(-inputs))\n",
    "#print(sigmoid(inputs))\n",
    "\n",
    "y1 = sigmoid(torch.sum(inputs * weights.view(5,1)) + bias)\n",
    "\n",
    "print(y1)"
   ]
  },
  {
   "cell_type": "code",
   "execution_count": 23,
   "metadata": {},
   "outputs": [
    {
     "name": "stdout",
     "output_type": "stream",
     "text": [
      "tensor([[0.0758, 0.1927, 0.2263, 0.0288, 0.4763]], grad_fn=<DivBackward0>)\n",
      "torch.Size([1, 1])\n",
      "tensor([1.], grad_fn=<SumBackward1>)\n"
     ]
    }
   ],
   "source": [
    "def softmax(inputs):\n",
    "    return torch.exp(inputs) / torch.sum(torch.exp(inputs), dim = 1).view(1, -1)\n",
    "print(softmax(inputs))\n",
    "\n",
    "propabilities = softmax(y1)\n",
    "print(propabilities.shape)\n",
    "\n",
    "print(propabilities.sum(dim = 1))"
   ]
  },
  {
   "cell_type": "code",
   "execution_count": 24,
   "metadata": {},
   "outputs": [
    {
     "name": "stdout",
     "output_type": "stream",
     "text": [
      "tensor([[-0.0668, -0.0668, -0.0668, -0.0668, -0.0668]])\n"
     ]
    }
   ],
   "source": [
    "#order to calculate the derivative of this error with respect to the weights,\n",
    "#∂w j​\t ∂​\t  y^\n",
    "\n",
    "y1 = sigmoid(torch.sum(inputs * weights.view(5,1)) + bias)\n",
    "xi = y1.backward()\n",
    "print(inputs.grad)"
   ]
  },
  {
   "cell_type": "code",
   "execution_count": null,
   "metadata": {},
   "outputs": [],
   "source": []
  },
  {
   "cell_type": "code",
   "execution_count": null,
   "metadata": {},
   "outputs": [],
   "source": []
  },
  {
   "cell_type": "code",
   "execution_count": null,
   "metadata": {},
   "outputs": [],
   "source": []
  },
  {
   "cell_type": "code",
   "execution_count": null,
   "metadata": {},
   "outputs": [],
   "source": []
  },
  {
   "cell_type": "code",
   "execution_count": null,
   "metadata": {},
   "outputs": [],
   "source": []
  }
 ],
 "metadata": {
  "kernelspec": {
   "display_name": "Python 3",
   "language": "python",
   "name": "python3"
  },
  "language_info": {
   "codemirror_mode": {
    "name": "ipython",
    "version": 3
   },
   "file_extension": ".py",
   "mimetype": "text/x-python",
   "name": "python",
   "nbconvert_exporter": "python",
   "pygments_lexer": "ipython3",
   "version": "3.7.4"
  }
 },
 "nbformat": 4,
 "nbformat_minor": 2
}
