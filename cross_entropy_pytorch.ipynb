{
 "cells": [
  {
   "cell_type": "code",
   "execution_count": 10,
   "metadata": {},
   "outputs": [
    {
     "name": "stdout",
     "output_type": "stream",
     "text": [
      "\n",
      "J MANASA\n"
     ]
    }
   ],
   "source": [
    "#Impliment Cross entropy function for Decress the loss and incresa the propablility to obtain best model\n",
    "print(\"\\nJ MANASA\")\n",
    "import numpy as np"
   ]
  },
  {
   "cell_type": "code",
   "execution_count": 11,
   "metadata": {},
   "outputs": [
    {
     "name": "stdout",
     "output_type": "stream",
     "text": [
      "[1 1 0]\n",
      "[0.8 0.6 0.1]\n"
     ]
    }
   ],
   "source": [
    "i = np.array([1, 1, 0])\n",
    "print(i)\n",
    "p = np.array([0.8, 0.6, 0.1])\n",
    "print(p)"
   ]
  },
  {
   "cell_type": "code",
   "execution_count": 13,
   "metadata": {},
   "outputs": [
    {
     "name": "stdout",
     "output_type": "stream",
     "text": [
      "0.8393296907380268\n",
      "\n",
      "J MANASA\n"
     ]
    }
   ],
   "source": [
    "def cross_entropy(i,p):\n",
    "    i = np.float_(i)\n",
    "    p = np.float_(p)\n",
    "    return -np.sum(i * np.log(p) + (1 - i) * np.log(1 - p))\n",
    "print(cross_entropy(i,p))\n",
    "print(\"\\nJ MANASA\")"
   ]
  },
  {
   "cell_type": "code",
   "execution_count": null,
   "metadata": {},
   "outputs": [],
   "source": []
  }
 ],
 "metadata": {
  "kernelspec": {
   "display_name": "Python 3",
   "language": "python",
   "name": "python3"
  },
  "language_info": {
   "codemirror_mode": {
    "name": "ipython",
    "version": 3
   },
   "file_extension": ".py",
   "mimetype": "text/x-python",
   "name": "python",
   "nbconvert_exporter": "python",
   "pygments_lexer": "ipython3",
   "version": "3.7.4"
  }
 },
 "nbformat": 4,
 "nbformat_minor": 2
}
